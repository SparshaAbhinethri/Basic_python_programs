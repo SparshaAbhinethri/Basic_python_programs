{
  "nbformat": 4,
  "nbformat_minor": 0,
  "metadata": {
    "colab": {
      "name": "BasicPracticePython.ipynb",
      "provenance": [],
      "authorship_tag": "ABX9TyPI5X53OPMBGyrHjCgr6Sea",
      "include_colab_link": true
    },
    "kernelspec": {
      "name": "python3",
      "display_name": "Python 3"
    }
  },
  "cells": [
    {
      "cell_type": "markdown",
      "metadata": {
        "id": "view-in-github",
        "colab_type": "text"
      },
      "source": [
        "<a href=\"https://colab.research.google.com/github/SparshaAbhinethri/Basic_python_programs/blob/master/BasicPracticePython.ipynb\" target=\"_parent\"><img src=\"https://colab.research.google.com/assets/colab-badge.svg\" alt=\"Open In Colab\"/></a>"
      ]
    },
    {
      "cell_type": "code",
      "metadata": {
        "id": "gcC1CZY-8Zeo",
        "colab": {
          "base_uri": "https://localhost:8080/",
          "height": 34
        },
        "outputId": "76b30fc8-2e05-4d98-ee90-05cba5e043b5"
      },
      "source": [
        "a = int(input())\n"
      ],
      "execution_count": null,
      "outputs": [
        {
          "output_type": "stream",
          "text": [
            "2\n"
          ],
          "name": "stdout"
        }
      ]
    },
    {
      "cell_type": "markdown",
      "metadata": {
        "id": "JPI3gjdDTX2V"
      },
      "source": [
        "Square root\n"
      ]
    },
    {
      "cell_type": "code",
      "metadata": {
        "id": "bH8Rr8HM4dsJ",
        "colab": {
          "base_uri": "https://localhost:8080/",
          "height": 34
        },
        "outputId": "fc9ab5de-2c0d-4f2a-ad36-405ce8049c43"
      },
      "source": [
        "import math\n",
        "print(round(math.sqrt(2),2))"
      ],
      "execution_count": null,
      "outputs": [
        {
          "output_type": "stream",
          "text": [
            "1.41\n"
          ],
          "name": "stdout"
        }
      ]
    },
    {
      "cell_type": "code",
      "metadata": {
        "id": "PoOTe3Wg9Svo",
        "colab": {
          "base_uri": "https://localhost:8080/",
          "height": 34
        },
        "outputId": "b0f599a5-3528-4381-efca-e38d682314dd"
      },
      "source": [
        "b = int(input())\n"
      ],
      "execution_count": null,
      "outputs": [
        {
          "output_type": "stream",
          "text": [
            "3\n"
          ],
          "name": "stdout"
        }
      ]
    },
    {
      "cell_type": "markdown",
      "metadata": {
        "id": "-J8nKyAyTNGR"
      },
      "source": [
        "Solve Quadratic Equation"
      ]
    },
    {
      "cell_type": "code",
      "metadata": {
        "id": "ozvEgHEc9VaM",
        "colab": {
          "base_uri": "https://localhost:8080/",
          "height": 85
        },
        "outputId": "67d3b701-6c61-4cbb-fc54-bd73e3ce8e2c"
      },
      "source": [
        "a = int(input())\n",
        "b = int(input())\n",
        "c = int(input())\n",
        "d = int(b*b) - 4*a*c\n",
        "e = d**0.5\n",
        "sol1 = (-b+e)/2*a\n",
        "sol2 = (-b-e)/2*a\n",
        "print(sol1,sol2)"
      ],
      "execution_count": null,
      "outputs": [
        {
          "output_type": "stream",
          "text": [
            "2\n",
            "3\n",
            "3\n",
            "(-2.9999999999999996+3.872983346207417j) (-3.0000000000000004-3.872983346207417j)\n"
          ],
          "name": "stdout"
        }
      ]
    },
    {
      "cell_type": "code",
      "metadata": {
        "id": "fMZeA53IADPR",
        "colab": {
          "base_uri": "https://localhost:8080/",
          "height": 68
        },
        "outputId": "61954631-4218-4b93-de83-6dab844dde1e"
      },
      "source": [
        "a = input()\n",
        "b = input()\n",
        "c= a\n",
        "a = b\n",
        "b =c\n",
        "print(a,b)"
      ],
      "execution_count": null,
      "outputs": [
        {
          "output_type": "stream",
          "text": [
            "2\n",
            "3\n",
            "3 2\n"
          ],
          "name": "stdout"
        }
      ]
    },
    {
      "cell_type": "markdown",
      "metadata": {
        "id": "RRKwCdilTBv8"
      },
      "source": [
        "Swap two variables"
      ]
    },
    {
      "cell_type": "code",
      "metadata": {
        "id": "r2UnU1wlAnJq",
        "colab": {
          "base_uri": "https://localhost:8080/",
          "height": 35
        },
        "outputId": "a80c0570-4465-479e-eaa9-a0d801992584"
      },
      "source": [
        "a = 2\n",
        "b = 3\n",
        "c = 4\n",
        "a,b,c = b,c,a\n",
        "print(a,b,c)"
      ],
      "execution_count": null,
      "outputs": [
        {
          "output_type": "stream",
          "text": [
            "3 4 2\n"
          ],
          "name": "stdout"
        }
      ]
    },
    {
      "cell_type": "code",
      "metadata": {
        "id": "1r7r7LRtA9Hj",
        "colab": {
          "base_uri": "https://localhost:8080/",
          "height": 34
        },
        "outputId": "3f0fc121-2f27-4d4c-8aad-5a250af752d4"
      },
      "source": [
        "import random\n",
        "n = 10\n",
        "print(random.randint(0,n))"
      ],
      "execution_count": null,
      "outputs": [
        {
          "output_type": "stream",
          "text": [
            "2\n"
          ],
          "name": "stdout"
        }
      ]
    },
    {
      "cell_type": "markdown",
      "metadata": {
        "id": "pEaJPfNZS8yk"
      },
      "source": [
        "Kilometers to miles"
      ]
    },
    {
      "cell_type": "code",
      "metadata": {
        "id": "6lWriwoeC2JH",
        "colab": {
          "base_uri": "https://localhost:8080/",
          "height": 51
        },
        "outputId": "44750654-0272-4821-bf2b-804c4962fff3"
      },
      "source": [
        "km = float(input())\n",
        "p = 0.621371\n",
        "m = n * p\n",
        "print(km,m)"
      ],
      "execution_count": null,
      "outputs": [
        {
          "output_type": "stream",
          "text": [
            "3.3\n",
            "3.3 2.0505242999999997\n"
          ],
          "name": "stdout"
        }
      ]
    },
    {
      "cell_type": "markdown",
      "metadata": {
        "id": "xD8UvuM5S4iJ"
      },
      "source": [
        "Leap year\n"
      ]
    },
    {
      "cell_type": "code",
      "metadata": {
        "id": "bjRxjS1V5d6m",
        "colab": {
          "base_uri": "https://localhost:8080/",
          "height": 54
        },
        "outputId": "9982d221-f173-4980-db28-7b900e192717"
      },
      "source": [
        "n = int(input())\n",
        "if n%4==0:\n",
        "  if n%100==0:\n",
        "    if n%400==0:\n",
        "      print(\"{0} is a leap year\".format(n))\n",
        "    else:\n",
        "      print(\"{0} is not a leap year\".format(n))\n",
        "  else:\n",
        "    print(\"{0} is a leap year\".format(n))\n",
        "else:\n",
        "  print(\"{0} is not a leap year\".format(n))"
      ],
      "execution_count": null,
      "outputs": [
        {
          "output_type": "stream",
          "text": [
            "1995\n",
            "1995 is not a leap year\n"
          ],
          "name": "stdout"
        }
      ]
    },
    {
      "cell_type": "markdown",
      "metadata": {
        "id": "2ytzXHf3_B-e"
      },
      "source": [
        "Prime Numbers\n"
      ]
    },
    {
      "cell_type": "code",
      "metadata": {
        "id": "1MZD4M9F_IxJ",
        "colab": {
          "base_uri": "https://localhost:8080/",
          "height": 54
        },
        "outputId": "ba3077d2-6fef-409c-c468-cd766e71ab7a"
      },
      "source": [
        "q = int(input())\n",
        "lst = []\n",
        "for n in range(2,q):\n",
        "    for i in range(2,n-1):\n",
        "        if(n%i==0):\n",
        "           break\n",
        "    else:\n",
        "      lst.append(n)\n",
        "print(lst)\n"
      ],
      "execution_count": null,
      "outputs": [
        {
          "output_type": "stream",
          "text": [
            "15\n",
            "[2, 3, 5, 7, 11, 13]\n"
          ],
          "name": "stdout"
        }
      ]
    },
    {
      "cell_type": "markdown",
      "metadata": {
        "id": "p4ev0TFoHDpy"
      },
      "source": [
        "Factorial of a number\n"
      ]
    },
    {
      "cell_type": "code",
      "metadata": {
        "id": "lbC3FS4NHIOC",
        "colab": {
          "base_uri": "https://localhost:8080/",
          "height": 54
        },
        "outputId": "4cb384de-a477-4093-8091-f7e5b3db8e42"
      },
      "source": [
        "n = int(input())\n",
        "product = 1\n",
        "while(n>1):\n",
        "  product = product * (n)\n",
        "  n = n - 1\n",
        "print(product)"
      ],
      "execution_count": null,
      "outputs": [
        {
          "output_type": "stream",
          "text": [
            "5\n",
            "120\n"
          ],
          "name": "stdout"
        }
      ]
    },
    {
      "cell_type": "markdown",
      "metadata": {
        "id": "EQ___VPNKp5j"
      },
      "source": [
        "Fibonacci series\n"
      ]
    },
    {
      "cell_type": "code",
      "metadata": {
        "id": "8GokntkMKuYZ",
        "colab": {
          "base_uri": "https://localhost:8080/",
          "height": 54
        },
        "outputId": "2f2ec098-a5e9-475b-f680-7b8210faefb4"
      },
      "source": [
        "n = int(input())\n",
        "sum = 0\n",
        "lst=[0,1,1,2]\n",
        "for i in range(2,n):\n",
        "  sum = lst[-1] + lst[-2]\n",
        "  lst.append(sum)\n",
        "print(lst)"
      ],
      "execution_count": null,
      "outputs": [
        {
          "output_type": "stream",
          "text": [
            "8\n",
            "[0, 1, 1, 2, 3, 5, 8, 13, 21, 34]\n"
          ],
          "name": "stdout"
        }
      ]
    },
    {
      "cell_type": "markdown",
      "metadata": {
        "id": "yDpTSosHMrr-"
      },
      "source": [
        "Armstrong numbers\n"
      ]
    },
    {
      "cell_type": "code",
      "metadata": {
        "id": "n78hD__HMw54",
        "colab": {
          "base_uri": "https://localhost:8080/",
          "height": 54
        },
        "outputId": "8c4f679f-6c25-4784-b70c-93924364b9c6"
      },
      "source": [
        "t = int(input())\n",
        "lst = []\n",
        "for i in range(1,t):\n",
        "   j = i\n",
        "   sum =0\n",
        "   while(j>0):\n",
        "      r = int(j % 10)\n",
        "      sum = sum + r**3\n",
        "      j = j/10\n",
        "   if i==sum:\n",
        "      lst.append(i)\n",
        "print(lst)"
      ],
      "execution_count": null,
      "outputs": [
        {
          "output_type": "stream",
          "text": [
            "1000\n",
            "[1, 153, 370, 371, 407]\n"
          ],
          "name": "stdout"
        }
      ]
    },
    {
      "cell_type": "markdown",
      "metadata": {
        "id": "cepNJNWX7WE5"
      },
      "source": [
        "Sum of 2 numbers"
      ]
    },
    {
      "cell_type": "code",
      "metadata": {
        "id": "C_PBjhrc7Y9I",
        "colab": {
          "base_uri": "https://localhost:8080/",
          "height": 72
        },
        "outputId": "48f71b66-13a7-4f87-c3da-b6123d9f9d2e"
      },
      "source": [
        "a = int(input())\n",
        "b = int(input())\n",
        "sum = int(a+b)\n",
        "print(\"Sum of 2 numbers is :{0} \".format(sum))"
      ],
      "execution_count": null,
      "outputs": [
        {
          "output_type": "stream",
          "text": [
            "3\n",
            "4\n",
            "Sum of 2 numbers is :7 \n"
          ],
          "name": "stdout"
        }
      ]
    },
    {
      "cell_type": "markdown",
      "metadata": {
        "id": "7AwP9NRH9-Ek"
      },
      "source": [
        "Decimal to Binary, Octal, Hexadecimal"
      ]
    },
    {
      "cell_type": "code",
      "metadata": {
        "id": "2kJNsRzG-EcX",
        "colab": {
          "base_uri": "https://localhost:8080/",
          "height": 90
        },
        "outputId": "72f95625-812b-48cc-c35e-344ed7eb39e6"
      },
      "source": [
        "dec = int(input())\n",
        "print(bin(dec))\n",
        "print(oct(dec))\n",
        "print(hex(dec))"
      ],
      "execution_count": null,
      "outputs": [
        {
          "output_type": "stream",
          "text": [
            "112\n",
            "0b1110000\n",
            "0o160\n",
            "0x70\n"
          ],
          "name": "stdout"
        }
      ]
    },
    {
      "cell_type": "markdown",
      "metadata": {
        "id": "RPQAxe9rBxYa"
      },
      "source": [
        "ASCII Value of a Character"
      ]
    },
    {
      "cell_type": "code",
      "metadata": {
        "id": "IX68PUUHB1Q5",
        "colab": {
          "base_uri": "https://localhost:8080/",
          "height": 72
        },
        "outputId": "ae047ef6-73f1-4a10-94f4-d0a52316351a"
      },
      "source": [
        "c = input()\n",
        "print(ord(c))\n",
        "print(chr(65))"
      ],
      "execution_count": null,
      "outputs": [
        {
          "output_type": "stream",
          "text": [
            "A\n",
            "65\n",
            "A\n"
          ],
          "name": "stdout"
        }
      ]
    },
    {
      "cell_type": "markdown",
      "metadata": {
        "id": "CHuDkJi_DpBY"
      },
      "source": [
        "Factors of a Number"
      ]
    },
    {
      "cell_type": "code",
      "metadata": {
        "id": "iF7rI4PUDsIW",
        "colab": {
          "base_uri": "https://localhost:8080/",
          "height": 54
        },
        "outputId": "1887df9e-662b-4363-db6c-e6add071bc4b"
      },
      "source": [
        "n = int(input())\n",
        "lst = []\n",
        "for i in range(1,n+1):\n",
        "  if(n%i==0):\n",
        "    lst.append(i)\n",
        "print(lst)"
      ],
      "execution_count": null,
      "outputs": [
        {
          "output_type": "stream",
          "text": [
            "15\n",
            "[1, 3, 5, 15]\n"
          ],
          "name": "stdout"
        }
      ]
    },
    {
      "cell_type": "markdown",
      "metadata": {
        "id": "qnsO_cPyTfZa"
      },
      "source": [
        "Display Calendar"
      ]
    },
    {
      "cell_type": "code",
      "metadata": {
        "id": "BrstXcfpNig5",
        "colab": {
          "base_uri": "https://localhost:8080/",
          "height": 34
        },
        "outputId": "6c9b0dd0-8de5-4829-f203-14cb22c2010f"
      },
      "source": [
        "def count_substring(string, sub_string):\n",
        "    count = 0\n",
        "    if sub_string in string:\n",
        "      count += 1\n",
        "    return count\n",
        "count_substring(\"abcdcdc\",\"cdc\")\n"
      ],
      "execution_count": null,
      "outputs": [
        {
          "output_type": "execute_result",
          "data": {
            "text/plain": [
              "1"
            ]
          },
          "metadata": {
            "tags": []
          },
          "execution_count": 2
        }
      ]
    },
    {
      "cell_type": "code",
      "metadata": {
        "id": "GaHhk0cci-3j",
        "colab": {
          "base_uri": "https://localhost:8080/",
          "height": 51
        },
        "outputId": "b6db31c1-fc53-4673-fa7a-4ed338e41656"
      },
      "source": [
        "a = input()\n",
        "print(int(a[::-1]))"
      ],
      "execution_count": null,
      "outputs": [
        {
          "output_type": "stream",
          "text": [
            "1442\n",
            "2441\n"
          ],
          "name": "stdout"
        }
      ]
    },
    {
      "cell_type": "code",
      "metadata": {
        "id": "Mjud8rqFYWrt"
      },
      "source": [
        ""
      ],
      "execution_count": null,
      "outputs": []
    }
  ]
}